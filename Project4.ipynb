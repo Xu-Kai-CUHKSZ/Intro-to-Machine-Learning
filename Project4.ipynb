{
 "cells": [
  {
   "cell_type": "code",
   "execution_count": 29,
   "metadata": {},
   "outputs": [],
   "source": [
    "import pandas as pd\n",
    "\n",
    "url = \"https://archive.ics.uci.edu/ml/machine-learning-databases/00236/seeds_dataset.txt\"\n",
    "data = pd.read_csv(url, sep=\"\\s+\", header=None, names=[\"Area\", \"Perimeter\", \"Compactness\", \"Length of kernel\", \"Width of kernel\", \"Asymmetry coefficient\", \"Length of kernel groove\", \"Label\"])\n",
    "\n",
    "X = data.drop(\"Label\", axis=1).values\n",
    "y = data[\"Label\"].values"
   ]
  },
  {
   "cell_type": "code",
   "execution_count": 30,
   "metadata": {},
   "outputs": [],
   "source": [
    "import numpy as np\n",
    "\n",
    "def pca(X, n_components=2):\n",
    "    # Standardize the data\n",
    "    X_mean = np.mean(X, axis=0)\n",
    "    X_std = np.std(X, axis=0)\n",
    "    X_standardized = (X - X_mean) / X_std\n",
    "\n",
    "    # Compute the covariance matrix\n",
    "    cov_matrix = np.cov(X_standardized.T)\n",
    "\n",
    "    # Compute eigenvalues and eigenvectors of the covariance matrix\n",
    "    eigenvalues, eigenvectors = np.linalg.eig(cov_matrix)\n",
    "\n",
    "    # Sort the eigenvalues and corresponding eigenvectors\n",
    "    sorted_index = np.argsort(eigenvalues)[::-1]\n",
    "    sorted_eigenvalues = eigenvalues[sorted_index]\n",
    "    sorted_eigenvectors = eigenvectors[:, sorted_index]\n",
    "\n",
    "    # Select the top n_components eigenvectors\n",
    "    eigenvectors_selected = sorted_eigenvectors[:, :n_components]\n",
    "\n",
    "    # Project the data onto the n_components-dimensional subspace\n",
    "    projected_data = np.dot(X_standardized, eigenvectors_selected)\n",
    "\n",
    "    return projected_data"
   ]
  },
  {
   "cell_type": "code",
   "execution_count": 31,
   "metadata": {},
   "outputs": [],
   "source": [
    "pca_data = pca(X)"
   ]
  },
  {
   "cell_type": "code",
   "execution_count": 32,
   "metadata": {},
   "outputs": [
    {
     "data": {
      "text/plain": [
       "array([[ 3.17047052e-01, -7.83669015e-01],\n",
       "       [-3.38617773e-03, -1.91321367e+00],\n",
       "       [-4.59443341e-01, -1.90722525e+00],\n",
       "       [-5.91935651e-01, -1.93106922e+00],\n",
       "       [ 1.10291005e+00, -2.06809003e+00],\n",
       "       [-3.36815150e-01, -1.63691626e+00],\n",
       "       [-1.45602498e-01, -4.36414570e-01],\n",
       "       [-4.25439933e-01, -1.39015330e+00],\n",
       "       [ 1.76718434e+00, -3.07528830e-01],\n",
       "       [ 1.44119415e+00, -1.01106830e+00],\n",
       "       [ 6.71107449e-02,  4.29312461e-01],\n",
       "       [-5.72683493e-01, -1.55824408e+00],\n",
       "       [-9.31414541e-01, -8.73925640e-01],\n",
       "       [-9.14882766e-01, -8.71940034e-01],\n",
       "       [-1.00836149e+00, -9.58530316e-01],\n",
       "       [-5.15522337e-01, -1.05872649e+00],\n",
       "       [-7.84530515e-01, -1.14197655e+00],\n",
       "       [ 6.79029059e-01, -2.17036180e+00],\n",
       "       [-2.34416607e-01, -2.78779387e+00],\n",
       "       [-1.73767215e+00, -3.40140568e-01],\n",
       "       [-5.61482567e-01, -1.58659628e-01],\n",
       "       [-4.77524312e-01, -7.04746626e-01],\n",
       "       [ 8.57383186e-01, -2.32117455e+00],\n",
       "       [-1.97851961e+00, -1.59076489e+00],\n",
       "       [-1.57527098e-03, -1.01326624e+00],\n",
       "       [ 1.09652119e+00, -1.63066030e+00],\n",
       "       [-1.55728246e+00, -5.55134014e-01],\n",
       "       [-1.69804238e+00, -7.50450169e-01],\n",
       "       [-4.56618638e-01, -1.04421405e+00],\n",
       "       [-1.08377612e+00, -1.22309883e-01],\n",
       "       [-1.11122927e+00, -1.57950837e+00],\n",
       "       [ 3.76702505e-01, -2.52240590e-01],\n",
       "       [-4.81412775e-01,  4.74555191e-01],\n",
       "       [-6.04218625e-01, -1.11850647e+00],\n",
       "       [ 3.99081720e-01, -9.15781784e-01],\n",
       "       [ 1.16292585e+00, -1.30021914e+00],\n",
       "       [ 1.06466488e+00, -2.95039964e-01],\n",
       "       [ 1.85493815e+00, -1.08886280e+00],\n",
       "       [ 1.40615428e-01, -6.10291735e-01],\n",
       "       [-6.78081880e-01,  4.37680711e-01],\n",
       "       [-7.31656556e-01, -1.22711021e+00],\n",
       "       [-7.29770424e-01, -1.34712673e+00],\n",
       "       [-1.18083239e+00, -2.03558956e+00],\n",
       "       [ 7.41739812e-01,  4.26997384e-01],\n",
       "       [ 4.09355867e-01, -1.15341344e+00],\n",
       "       [-7.82334374e-01, -1.68405040e+00],\n",
       "       [ 5.14406927e-01, -1.65669157e+00],\n",
       "       [ 1.79966477e-01, -9.84981534e-01],\n",
       "       [-9.25997716e-02, -1.00137558e+00],\n",
       "       [ 1.25468050e-01, -6.88048942e-01],\n",
       "       [-3.26313626e-01, -2.02406202e-01],\n",
       "       [ 3.92392314e-01,  2.15180950e-01],\n",
       "       [-3.66484430e-01,  6.60878719e-01],\n",
       "       [-3.35388472e-01, -6.53453213e-01],\n",
       "       [-3.76744247e-02, -5.59364738e-01],\n",
       "       [ 2.19397132e-01, -6.40187654e-01],\n",
       "       [-3.14249159e-01, -1.11761141e+00],\n",
       "       [ 2.06695259e-01, -2.30246953e+00],\n",
       "       [ 5.29706106e-01, -1.30182191e+00],\n",
       "       [-2.40035654e+00, -1.26466877e+00],\n",
       "       [-2.74984930e+00, -1.33727587e+00],\n",
       "       [-2.63075608e+00, -1.89677793e+00],\n",
       "       [-1.96906304e+00, -1.62691534e+00],\n",
       "       [-1.25753988e+00, -7.22933991e-02],\n",
       "       [-1.55784828e+00, -1.88300511e+00],\n",
       "       [-1.61699937e+00, -1.91119270e+00],\n",
       "       [-2.15324906e-01, -1.37031647e+00],\n",
       "       [-5.54284777e-01, -7.33452198e-01],\n",
       "       [-1.98411141e-01, -1.19815842e+00],\n",
       "       [-1.79081064e+00,  1.67506061e-01],\n",
       "       [ 2.23549062e+00,  1.04968576e+00],\n",
       "       [ 1.48540908e+00,  1.21411066e+00],\n",
       "       [ 1.78461274e+00,  7.33018879e-01],\n",
       "       [ 3.53006550e+00, -4.96300699e-01],\n",
       "       [ 1.66484026e+00,  4.97570006e-01],\n",
       "       [ 1.27036103e+00,  1.21174489e+00],\n",
       "       [ 1.68512630e+00,  9.71590520e-01],\n",
       "       [ 4.17800860e+00,  1.53892056e+00],\n",
       "       [ 3.19269939e+00,  1.72044465e+00],\n",
       "       [ 1.79642560e+00, -4.58433392e-01],\n",
       "       [ 1.35828426e+00,  1.10089179e+00],\n",
       "       [ 2.75184742e+00,  6.70144136e-01],\n",
       "       [ 3.64873121e+00,  1.20775581e+00],\n",
       "       [ 3.71624680e+00, -1.77572641e-01],\n",
       "       [ 3.52673767e+00,  4.44748225e-01],\n",
       "       [ 2.92579832e+00, -9.09007349e-02],\n",
       "       [ 3.23100945e+00, -8.20227130e-01],\n",
       "       [ 3.41972134e+00,  1.57821846e+00],\n",
       "       [ 4.47569737e+00,  1.42993286e+00],\n",
       "       [ 4.43739394e+00,  9.69682794e-01],\n",
       "       [ 4.14781960e+00,  3.71485135e-01],\n",
       "       [ 3.17039145e+00, -1.67812023e-01],\n",
       "       [ 3.08515045e+00,  1.47951248e-01],\n",
       "       [ 2.76708163e+00,  7.95684133e-01],\n",
       "       [ 2.87702824e+00,  2.54022610e+00],\n",
       "       [ 1.77213232e+00,  8.30529913e-01],\n",
       "       [ 3.48405128e+00,  6.29085049e-01],\n",
       "       [ 3.35872196e+00,  5.70642744e-01],\n",
       "       [ 2.65611588e+00,  7.85296853e-01],\n",
       "       [ 3.03212692e+00, -1.23565201e-01],\n",
       "       [ 1.17328244e+00,  7.63107553e-02],\n",
       "       [ 2.47194639e+00, -9.83513781e-01],\n",
       "       [ 3.30541011e+00,  3.32400987e-01],\n",
       "       [ 3.24358647e+00,  8.39178307e-01],\n",
       "       [ 3.17302692e+00,  4.35766507e-01],\n",
       "       [ 2.89949749e+00, -4.75629119e-01],\n",
       "       [ 3.38892957e+00, -3.62259631e-01],\n",
       "       [ 2.12903143e+00,  4.21507481e-01],\n",
       "       [ 4.14857492e+00,  1.10023022e+00],\n",
       "       [ 2.83063980e+00, -6.55213034e-01],\n",
       "       [ 2.79399173e+00, -6.78534006e-01],\n",
       "       [ 3.13278001e+00,  7.34557053e-01],\n",
       "       [ 3.43469435e+00, -8.81940744e-01],\n",
       "       [ 2.79339128e+00,  2.21141823e+00],\n",
       "       [ 4.40090393e+00,  1.26898439e+00],\n",
       "       [ 3.44952552e+00, -5.17166417e-02],\n",
       "       [ 2.97504391e+00, -1.15294430e-01],\n",
       "       [ 3.40323444e+00,  1.75356168e-01],\n",
       "       [ 3.14059466e+00, -3.45353208e-03],\n",
       "       [ 3.99181744e+00,  5.86137049e-01],\n",
       "       [ 3.74965679e+00,  1.53501142e+00],\n",
       "       [ 2.35064725e+00,  5.22910817e-01],\n",
       "       [ 7.99216336e-01,  8.68136707e-01],\n",
       "       [ 2.83238929e+00, -6.55005495e-01],\n",
       "       [ 6.40351127e-01, -1.36398441e+00],\n",
       "       [ 3.07242617e+00,  2.09605930e-01],\n",
       "       [ 2.70301237e+00,  1.24706974e+00],\n",
       "       [ 2.59524072e+00, -7.89441973e-01],\n",
       "       [ 3.87379087e+00,  1.46732062e-01],\n",
       "       [ 1.83620478e+00,  3.97730638e-01],\n",
       "       [ 2.85910319e+00, -7.52856736e-01],\n",
       "       [ 3.13040155e+00, -2.67505761e-01],\n",
       "       [ 6.93173456e-01,  8.13675167e-01],\n",
       "       [ 1.00950051e+00,  8.36534026e-01],\n",
       "       [ 9.12856312e-01,  7.42110054e-01],\n",
       "       [ 5.68936576e-01, -7.75814425e-01],\n",
       "       [ 2.19529592e+00,  4.24830154e-01],\n",
       "       [ 7.99149663e-01,  4.55405433e-01],\n",
       "       [ 7.24306630e-01,  2.19013693e-01],\n",
       "       [ 1.46538667e+00,  2.13996204e-01],\n",
       "       [-1.35027740e+00,  1.22421437e+00],\n",
       "       [-1.09350280e+00,  1.79884796e+00],\n",
       "       [-1.24605922e+00,  1.11345738e+00],\n",
       "       [-1.90077852e+00,  6.29451249e-01],\n",
       "       [-2.46609342e+00,  1.07017952e+00],\n",
       "       [-2.97143253e+00,  2.18508200e+00],\n",
       "       [-2.60278034e+00, -2.44803256e-01],\n",
       "       [-1.85372955e+00, -2.18283191e-02],\n",
       "       [-1.54356722e+00,  1.30560093e-01],\n",
       "       [-3.19043461e+00,  1.93260252e+00],\n",
       "       [-2.19323497e+00,  9.62966052e-01],\n",
       "       [-2.46649392e+00,  2.45412598e+00],\n",
       "       [-1.98604045e+00,  1.25734679e+00],\n",
       "       [-2.93170345e+00,  3.60749949e-01],\n",
       "       [-2.58611808e+00,  6.06237640e-01],\n",
       "       [-2.95816928e+00,  1.76367282e+00],\n",
       "       [-2.55747836e+00, -5.06930003e-01],\n",
       "       [-2.48852395e+00,  1.77621293e+00],\n",
       "       [-2.53931671e+00,  1.65660094e+00],\n",
       "       [-2.66265839e+00,  1.64078819e+00],\n",
       "       [-1.48138174e+00,  3.64423793e-01],\n",
       "       [-1.99920677e+00,  5.64433519e-01],\n",
       "       [-2.37039181e+00,  8.56141339e-01],\n",
       "       [-1.72282657e+00,  3.73633899e-01],\n",
       "       [-2.96760486e+00,  1.05761406e+00],\n",
       "       [-1.82666680e+00, -1.43532582e+00],\n",
       "       [-1.90640891e+00,  9.18541953e-01],\n",
       "       [-1.84014311e+00,  4.51453901e-01],\n",
       "       [-2.89614406e+00,  8.79681035e-01],\n",
       "       [-2.87234873e+00,  2.39825293e-01],\n",
       "       [-3.09179735e+00,  2.32702499e+00],\n",
       "       [-2.81203741e+00,  1.45420148e+00],\n",
       "       [-2.88603824e+00,  3.96596270e-01],\n",
       "       [-2.86548980e+00,  1.20575412e+00],\n",
       "       [-3.21390638e+00,  1.79611034e+00],\n",
       "       [-2.91551158e+00,  1.85058701e-01],\n",
       "       [-2.92472945e+00,  1.16595846e+00],\n",
       "       [-3.29897440e+00,  8.01692215e-01],\n",
       "       [-2.80331004e+00,  1.07733610e+00],\n",
       "       [-1.77549982e+00, -6.82411592e-01],\n",
       "       [-2.87944543e+00,  2.52369051e-01],\n",
       "       [-1.72142948e+00,  2.19053235e-01],\n",
       "       [-2.03020745e+00,  4.80079007e-01],\n",
       "       [-2.45615851e+00,  5.72714504e-01],\n",
       "       [-1.43029221e+00,  1.43705765e+00],\n",
       "       [-2.65121221e+00,  1.09214372e+00],\n",
       "       [-2.41157972e+00,  1.64686890e+00],\n",
       "       [-3.17954711e+00,  4.19114361e-01],\n",
       "       [-2.95812987e+00,  1.47970167e+00],\n",
       "       [-3.27976258e+00, -9.54554960e-02],\n",
       "       [-3.17351966e+00,  9.97378098e-01],\n",
       "       [-2.67770368e+00, -9.91153389e-02],\n",
       "       [-1.91439166e+00, -7.15779252e-01],\n",
       "       [-3.23131694e+00,  1.16186189e+00],\n",
       "       [-1.98839224e+00, -1.42258641e-01],\n",
       "       [-1.59065129e+00, -4.22555325e-01],\n",
       "       [-1.69370462e+00,  1.24838347e-01],\n",
       "       [-1.09978315e+00, -2.59573115e-01],\n",
       "       [-1.62888513e+00,  1.17474710e-01],\n",
       "       [-1.45963267e+00, -1.75368601e+00],\n",
       "       [-2.00487210e+00,  5.92070467e-01],\n",
       "       [-1.61206890e+00, -2.14057739e+00],\n",
       "       [-2.81495737e+00, -5.13213623e-01],\n",
       "       [-1.84362278e+00,  1.34137404e+00],\n",
       "       [-2.00513076e+00, -8.58920142e-02],\n",
       "       [-1.99110719e+00, -8.65955555e-01],\n",
       "       [-2.72686452e+00,  2.08189724e-01],\n",
       "       [-1.40363281e+00,  1.29859258e+00],\n",
       "       [-2.33932776e+00, -9.96986962e-02],\n",
       "       [-1.95595293e+00,  5.25071183e-01]])"
      ]
     },
     "execution_count": 32,
     "metadata": {},
     "output_type": "execute_result"
    }
   ],
   "source": [
    "pca_data"
   ]
  },
  {
   "cell_type": "code",
   "execution_count": 34,
   "metadata": {},
   "outputs": [],
   "source": [
    "import random\n",
    "\n",
    "def euclidean_distance(a, b):\n",
    "    return np.sqrt(np.sum((a - b) ** 2))\n",
    "\n",
    "def kmeans(X, k=3, num_iterations=100):\n",
    "    # Initialize random centroids\n",
    "    centroid_indices = random.sample(range(X.shape[0]), k)\n",
    "    centroids = X[centroid_indices]\n",
    "\n",
    "    # Initialize predicted labels array\n",
    "    predicted_labels = np.empty(X.shape[0], dtype=int)\n",
    "\n",
    "    for _ in range(num_iterations):\n",
    "        # Assign each data point to the closest centroid and update the predicted labels\n",
    "        clusters = {i: [] for i in range(k)}\n",
    "        for index, x in enumerate(X):\n",
    "            closest_centroid = np.argmin([euclidean_distance(x, centroid) for centroid in centroids])\n",
    "            clusters[closest_centroid].append(x)\n",
    "            predicted_labels[index] = closest_centroid\n",
    "\n",
    "        # Update centroids\n",
    "        new_centroids = []\n",
    "        for i in range(k):\n",
    "            new_centroid = np.mean(clusters[i], axis=0)\n",
    "            new_centroids.append(new_centroid)\n",
    "        centroids = np.array(new_centroids)\n",
    "\n",
    "    return [centroids, clusters, predicted_labels]\n",
    "\n",
    "def kmeans1(X, k=3, num_iterations=100):\n",
    "    # Initialize random centroids\n",
    "    centroid_indices = random.sample(range(X.shape[0]), k)\n",
    "    centroids = X[centroid_indices]\n",
    "\n",
    "    # Initialize predicted labels array\n",
    "    predicted_labels = np.empty(X.shape[0], dtype=int)\n",
    "\n",
    "    for _ in range(num_iterations):\n",
    "        # Assign each data point to the closest centroid and update the predicted labels\n",
    "        clusters = {i: [] for i in range(k)}\n",
    "        for index, x in enumerate(X):\n",
    "            closest_centroid = np.argmin([euclidean_distance(x, centroid) for centroid in centroids])\n",
    "            clusters[closest_centroid].append(x)\n",
    "            predicted_labels[index] = closest_centroid\n",
    "\n",
    "        # Update centroids\n",
    "        new_centroids = []\n",
    "        for i in range(k):\n",
    "            new_centroid = np.mean(clusters[i], axis=0)\n",
    "            new_centroids.append(new_centroid)\n",
    "        centroids = np.array(new_centroids)\n",
    "\n",
    "    return centroids, clusters, predicted_labels"
   ]
  },
  {
   "cell_type": "code",
   "execution_count": 35,
   "metadata": {},
   "outputs": [],
   "source": [
    "results = kmeans(pca_data)"
   ]
  },
  {
   "cell_type": "code",
   "execution_count": 36,
   "metadata": {},
   "outputs": [
    {
     "name": "stdout",
     "output_type": "stream",
     "text": [
      "[[-2.32481421  0.5689108 ]\n",
      " [ 2.80525792  0.41690012]\n",
      " [-0.23066709 -1.01495227]]\n"
     ]
    }
   ],
   "source": [
    "print(results[0])"
   ]
  },
  {
   "cell_type": "code",
   "execution_count": 37,
   "metadata": {},
   "outputs": [
    {
     "name": "stdout",
     "output_type": "stream",
     "text": [
      "{0: [array([-1.73767215, -0.34014057]), array([-1.55728246, -0.55513401]), array([-1.69804238, -0.75045017]), array([-2.40035654, -1.26466877]), array([-2.7498493 , -1.33727587]), array([-2.63075608, -1.89677793]), array([-1.25753988, -0.0722934 ]), array([-1.79081064,  0.16750606]), array([-1.3502774 ,  1.22421437]), array([-1.0935028 ,  1.79884796]), array([-1.24605922,  1.11345738]), array([-1.90077852,  0.62945125]), array([-2.46609342,  1.07017952]), array([-2.97143253,  2.185082  ]), array([-2.60278034, -0.24480326]), array([-1.85372955, -0.02182832]), array([-1.54356722,  0.13056009]), array([-3.19043461,  1.93260252]), array([-2.19323497,  0.96296605]), array([-2.46649392,  2.45412598]), array([-1.98604045,  1.25734679]), array([-2.93170345,  0.36074995]), array([-2.58611808,  0.60623764]), array([-2.95816928,  1.76367282]), array([-2.55747836, -0.50693   ]), array([-2.48852395,  1.77621293]), array([-2.53931671,  1.65660094]), array([-2.66265839,  1.64078819]), array([-1.48138174,  0.36442379]), array([-1.99920677,  0.56443352]), array([-2.37039181,  0.85614134]), array([-1.72282657,  0.3736339 ]), array([-2.96760486,  1.05761406]), array([-1.90640891,  0.91854195]), array([-1.84014311,  0.4514539 ]), array([-2.89614406,  0.87968103]), array([-2.87234873,  0.23982529]), array([-3.09179735,  2.32702499]), array([-2.81203741,  1.45420148]), array([-2.88603824,  0.39659627]), array([-2.8654898 ,  1.20575412]), array([-3.21390638,  1.79611034]), array([-2.91551158,  0.1850587 ]), array([-2.92472945,  1.16595846]), array([-3.2989744 ,  0.80169221]), array([-2.80331004,  1.0773361 ]), array([-1.77549982, -0.68241159]), array([-2.87944543,  0.25236905]), array([-1.72142948,  0.21905323]), array([-2.03020745,  0.48007901]), array([-2.45615851,  0.5727145 ]), array([-1.43029221,  1.43705765]), array([-2.65121221,  1.09214372]), array([-2.41157972,  1.6468689 ]), array([-3.17954711,  0.41911436]), array([-2.95812987,  1.47970167]), array([-3.27976258, -0.0954555 ]), array([-3.17351966,  0.9973781 ]), array([-2.67770368, -0.09911534]), array([-1.91439166, -0.71577925]), array([-3.23131694,  1.16186189]), array([-1.98839224, -0.14225864]), array([-1.59065129, -0.42255533]), array([-1.69370462,  0.12483835]), array([-1.62888513,  0.11747471]), array([-2.0048721 ,  0.59207047]), array([-2.81495737, -0.51321362]), array([-1.84362278,  1.34137404]), array([-2.00513076, -0.08589201]), array([-1.99110719, -0.86595556]), array([-2.72686452,  0.20818972]), array([-1.40363281,  1.29859258]), array([-2.33932776, -0.0996987 ]), array([-1.95595293,  0.52507118])], 1: [array([ 1.76718434, -0.30752883]), array([ 1.85493815, -1.0888628 ]), array([2.23549062, 1.04968576]), array([1.48540908, 1.21411066]), array([1.78461274, 0.73301888]), array([ 3.5300655, -0.4963007]), array([1.66484026, 0.49757001]), array([1.27036103, 1.21174489]), array([1.6851263 , 0.97159052]), array([4.1780086 , 1.53892056]), array([3.19269939, 1.72044465]), array([ 1.7964256 , -0.45843339]), array([1.35828426, 1.10089179]), array([2.75184742, 0.67014414]), array([3.64873121, 1.20775581]), array([ 3.7162468 , -0.17757264]), array([3.52673767, 0.44474823]), array([ 2.92579832, -0.09090073]), array([ 3.23100945, -0.82022713]), array([3.41972134, 1.57821846]), array([4.47569737, 1.42993286]), array([4.43739394, 0.96968279]), array([4.1478196 , 0.37148514]), array([ 3.17039145, -0.16781202]), array([3.08515045, 0.14795125]), array([2.76708163, 0.79568413]), array([2.87702824, 2.5402261 ]), array([1.77213232, 0.83052991]), array([3.48405128, 0.62908505]), array([3.35872196, 0.57064274]), array([2.65611588, 0.78529685]), array([ 3.03212692, -0.1235652 ]), array([1.17328244, 0.07631076]), array([ 2.47194639, -0.98351378]), array([3.30541011, 0.33240099]), array([3.24358647, 0.83917831]), array([3.17302692, 0.43576651]), array([ 2.89949749, -0.47562912]), array([ 3.38892957, -0.36225963]), array([2.12903143, 0.42150748]), array([4.14857492, 1.10023022]), array([ 2.8306398 , -0.65521303]), array([ 2.79399173, -0.67853401]), array([3.13278001, 0.73455705]), array([ 3.43469435, -0.88194074]), array([2.79339128, 2.21141823]), array([4.40090393, 1.26898439]), array([ 3.44952552, -0.05171664]), array([ 2.97504391, -0.11529443]), array([3.40323444, 0.17535617]), array([ 3.14059466, -0.00345353]), array([3.99181744, 0.58613705]), array([3.74965679, 1.53501142]), array([2.35064725, 0.52291082]), array([0.79921634, 0.86813671]), array([ 2.83238929, -0.6550055 ]), array([3.07242617, 0.20960593]), array([2.70301237, 1.24706974]), array([ 2.59524072, -0.78944197]), array([3.87379087, 0.14673206]), array([1.83620478, 0.39773064]), array([ 2.85910319, -0.75285674]), array([ 3.13040155, -0.26750576]), array([1.00950051, 0.83653403]), array([0.91285631, 0.74211005]), array([2.19529592, 0.42483015]), array([1.46538667, 0.2139962 ])], 2: [array([ 0.31704705, -0.78366902]), array([-0.00338618, -1.91321367]), array([-0.45944334, -1.90722525]), array([-0.59193565, -1.93106922]), array([ 1.10291005, -2.06809003]), array([-0.33681515, -1.63691626]), array([-0.1456025 , -0.43641457]), array([-0.42543993, -1.3901533 ]), array([ 1.44119415, -1.0110683 ]), array([0.06711074, 0.42931246]), array([-0.57268349, -1.55824408]), array([-0.93141454, -0.87392564]), array([-0.91488277, -0.87194003]), array([-1.00836149, -0.95853032]), array([-0.51552234, -1.05872649]), array([-0.78453052, -1.14197655]), array([ 0.67902906, -2.1703618 ]), array([-0.23441661, -2.78779387]), array([-0.56148257, -0.15865963]), array([-0.47752431, -0.70474663]), array([ 0.85738319, -2.32117455]), array([-1.97851961, -1.59076489]), array([-0.00157527, -1.01326624]), array([ 1.09652119, -1.6306603 ]), array([-0.45661864, -1.04421405]), array([-1.08377612, -0.12230988]), array([-1.11122927, -1.57950837]), array([ 0.3767025 , -0.25224059]), array([-0.48141278,  0.47455519]), array([-0.60421863, -1.11850647]), array([ 0.39908172, -0.91578178]), array([ 1.16292585, -1.30021914]), array([ 1.06466488, -0.29503996]), array([ 0.14061543, -0.61029174]), array([-0.67808188,  0.43768071]), array([-0.73165656, -1.22711021]), array([-0.72977042, -1.34712673]), array([-1.18083239, -2.03558956]), array([0.74173981, 0.42699738]), array([ 0.40935587, -1.15341344]), array([-0.78233437, -1.6840504 ]), array([ 0.51440693, -1.65669157]), array([ 0.17996648, -0.98498153]), array([-0.09259977, -1.00137558]), array([ 0.12546805, -0.68804894]), array([-0.32631363, -0.2024062 ]), array([0.39239231, 0.21518095]), array([-0.36648443,  0.66087872]), array([-0.33538847, -0.65345321]), array([-0.03767442, -0.55936474]), array([ 0.21939713, -0.64018765]), array([-0.31424916, -1.11761141]), array([ 0.20669526, -2.30246953]), array([ 0.52970611, -1.30182191]), array([-1.96906304, -1.62691534]), array([-1.55784828, -1.88300511]), array([-1.61699937, -1.9111927 ]), array([-0.21532491, -1.37031647]), array([-0.55428478, -0.7334522 ]), array([-0.19841114, -1.19815842]), array([ 0.64035113, -1.36398441]), array([0.69317346, 0.81367517]), array([ 0.56893658, -0.77581443]), array([0.79914966, 0.45540543]), array([0.72430663, 0.21901369]), array([-1.8266668 , -1.43532582]), array([-1.09978315, -0.25957311]), array([-1.45963267, -1.75368601]), array([-1.6120689 , -2.14057739])]}\n"
     ]
    }
   ],
   "source": [
    "print(results[1])"
   ]
  },
  {
   "cell_type": "code",
   "execution_count": 38,
   "metadata": {},
   "outputs": [
    {
     "name": "stdout",
     "output_type": "stream",
     "text": [
      "[2 2 2 2 2 2 2 2 1 2 2 2 2 2 2 2 2 2 2 0 2 2 2 2 2 2 0 0 2 2 2 2 2 2 2 2 2\n",
      " 1 2 2 2 2 2 2 2 2 2 2 2 2 2 2 2 2 2 2 2 2 2 0 0 0 2 0 2 2 2 2 2 0 1 1 1 1\n",
      " 1 1 1 1 1 1 1 1 1 1 1 1 1 1 1 1 1 1 1 1 1 1 1 1 1 1 1 1 1 1 1 1 1 1 1 1 1\n",
      " 1 1 1 1 1 1 1 1 1 1 1 1 1 2 1 1 1 1 1 1 1 2 1 1 2 1 2 2 1 0 0 0 0 0 0 0 0\n",
      " 0 0 0 0 0 0 0 0 0 0 0 0 0 0 0 0 0 2 0 0 0 0 0 0 0 0 0 0 0 0 0 0 0 0 0 0 0\n",
      " 0 0 0 0 0 0 0 0 0 0 0 0 2 0 2 0 2 0 0 0 0 0 0 0 0]\n"
     ]
    }
   ],
   "source": [
    "print(results[2])"
   ]
  },
  {
   "cell_type": "code",
   "execution_count": 52,
   "metadata": {},
   "outputs": [
    {
     "data": {
      "image/png": "[encoded data removed]",
      "text/plain": [
       "<Figure size 432x288 with 1 Axes>"
      ]
     },
     "metadata": {
      "needs_background": "light"
     },
     "output_type": "display_data"
    }
   ],
   "source": [
    "import matplotlib.pyplot as plt\n",
    "color = ['green', 'blue','red']\n",
    "for i in range(210):\n",
    "    j  = results[2][i]\n",
    "    col = color[j]\n",
    "    plt.scatter(pca_data[:,0][i],pca_data[:,1][i],color = col)\n",
    "plt.legend([\"1\",\"2\",\"3\"])\n",
    "plt.show()"
   ]
  },
  {
   "cell_type": "code",
   "execution_count": 47,
   "metadata": {},
   "outputs": [
    {
     "data": {
      "text/plain": [
       "0.3170470518544717"
      ]
     },
     "execution_count": 47,
     "metadata": {},
     "output_type": "execute_result"
    }
   ],
   "source": [
    "pca_data[:,0][0]"
   ]
  },
  {
   "cell_type": "code",
   "execution_count": 11,
   "metadata": {},
   "outputs": [],
   "source": [
    "def rand_index(clusters, predicted_labels, true_labels):\n",
    "    n = len(true_labels)\n",
    "    a = 0\n",
    "    b = 0\n",
    "\n",
    "    # Compute the number of pairs with same/different labels in true_labels and predicted_labels\n",
    "    for i in range(n):\n",
    "        for j in range(i+1, n):\n",
    "            if true_labels[i] == true_labels[j] and predicted_labels[i] == predicted_labels[j]:\n",
    "                a += 1\n",
    "            elif true_labels[i] != true_labels[j] and predicted_labels[i] != predicted_labels[j]:\n",
    "                b += 1\n",
    "\n",
    "    rand_index = (a + b) / (n * (n - 1) // 2)\n",
    "    return rand_index"
   ]
  },
  {
   "cell_type": "code",
   "execution_count": 18,
   "metadata": {},
   "outputs": [],
   "source": [
    "def silhouette_coefficient(X, clusters, centroids):\n",
    "    def average_distance(x, cluster):\n",
    "        return np.mean([euclidean_distance(x, other_x) for other_x in cluster])\n",
    "\n",
    "    silhouettes = []\n",
    "    for i, cluster in clusters.items():\n",
    "        for x in cluster:\n",
    "            a = average_distance(x, cluster)\n",
    "            b = min([average_distance(x, clusters[j]) for j in range(len(centroids)) if j != i])\n",
    "            silhouette = (b - a) / max(a, b)\n",
    "            silhouettes.append(silhouette)\n",
    "    silhouette_coefficient = np.mean(silhouettes)\n",
    "    return silhouette_coefficient"
   ]
  },
  {
   "cell_type": "code",
   "execution_count": 54,
   "metadata": {},
   "outputs": [
    {
     "name": "stdout",
     "output_type": "stream",
     "text": [
      "Silhouette Coefficient of pca data: 0.5006380125112724\n",
      "Rand Index of pca data: 0.9048986101617681\n"
     ]
    }
   ],
   "source": [
    "centroids, clusters, predicted_labels = kmeans1(pca_data)\n",
    "sil_coef = silhouette_coefficient(pca_data, clusters, centroids)\n",
    "rand_idx = rand_index(clusters, predicted_labels, y)\n",
    "print(\"Silhouette Coefficient of pca data:\", sil_coef)\n",
    "print(\"Rand Index of pca data:\", rand_idx)"
   ]
  },
  {
   "cell_type": "code",
   "execution_count": 55,
   "metadata": {},
   "outputs": [],
   "source": [
    "res = kmeans(X)\n",
    "centroids, clusters, predicted_labels = kmeans1(X)"
   ]
  },
  {
   "cell_type": "code",
   "execution_count": 56,
   "metadata": {},
   "outputs": [
    {
     "name": "stdout",
     "output_type": "stream",
     "text": [
      "Silhouette Coefficient of original data: 0.47943599429227485\n",
      "Rand Index of original data: 0.8743677375256322\n"
     ]
    }
   ],
   "source": [
    "sil_coef = silhouette_coefficient(X, clusters, centroids)\n",
    "print(\"Silhouette Coefficient of original data:\", sil_coef)\n",
    "rand_idx = rand_index(clusters, predicted_labels, y)\n",
    "print(\"Rand Index of original data:\", rand_idx)"
   ]
  }
 ],
 "metadata": {
  "kernelspec": {
   "display_name": "Python 3 (ipykernel)",
   "language": "python",
   "name": "python3"
  },
  "language_info": {
   "codemirror_mode": {
    "name": "ipython",
    "version": 3
   },
   "file_extension": ".py",
   "mimetype": "text/x-python",
   "name": "python",
   "nbconvert_exporter": "python",
   "pygments_lexer": "ipython3",
   "version": "3.7.0"
  }
 },
 "nbformat": 4,
 "nbformat_minor": 2
}
