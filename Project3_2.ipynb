{
 "cells": [
  {
   "cell_type": "code",
   "execution_count": 8,
   "metadata": {},
   "outputs": [],
   "source": [
    "import pandas as pd\n",
    "import warnings\n",
    "warnings.filterwarnings(\"ignore\")\n",
    "from sklearn.neural_network import MLPClassifier\n",
    "from sklearn.metrics import classification_report, recall_score, precision_score\n",
    "from sklearn import metrics\n",
    "\n",
    "\n",
    "file1 = \"./Desktop/train.csv\"\n",
    "file2 = \"./Desktop/test.csv\"\n",
    "train = pd.read_csv(file1)\n",
    "test = pd.read_csv(file2)\n",
    "X_train = train.drop(['Id','Category'],axis = 1)\n",
    "X_test = test.drop(['label'],axis = 1)\n",
    "\n",
    "y_train = train['Category']\n",
    "y_test = test['label']"
   ]
  },
  {
   "cell_type": "code",
   "execution_count": 11,
   "metadata": {},
   "outputs": [
    {
     "name": "stdout",
     "output_type": "stream",
     "text": [
      "when the num of layers is 1,the num of nodes is 20,the optimizer is adam,the accuracy is\n",
      "0.7666\n",
      "when the num of layers is 1,the num of nodes is 20,the optimizer is sgd,the accuracy is\n",
      "0.1\n",
      "when the num of layers is 1,the num of nodes is 50,the optimizer is adam,the accuracy is\n",
      "0.8495\n",
      "when the num of layers is 1,the num of nodes is 50,the optimizer is sgd,the accuracy is\n",
      "0.2633\n",
      "when the num of layers is 1,the num of nodes is 100,the optimizer is adam,the accuracy is\n",
      "0.8639\n",
      "when the num of layers is 1,the num of nodes is 100,the optimizer is sgd,the accuracy is\n",
      "0.1\n",
      "when the num of layers is 2,the num of nodes is 20,the optimizer is adam,the accuracy is\n",
      "0.85\n",
      "when the num of layers is 2,the num of nodes is 20,the optimizer is sgd,the accuracy is\n",
      "0.1\n",
      "when the num of layers is 2,the num of nodes is 50,the optimizer is adam,the accuracy is\n",
      "0.8726\n",
      "when the num of layers is 2,the num of nodes is 50,the optimizer is sgd,the accuracy is\n",
      "0.1\n",
      "when the num of layers is 2,the num of nodes is 20,the optimizer is adam,the accuracy is\n",
      "0.85\n",
      "when the num of layers is 2,the num of nodes is 20,the optimizer is sgd,the accuracy is\n",
      "0.1\n",
      "when the num of layers is 3,the num of nodes is 50,the optimizer is adam,the accuracy is\n",
      "0.879\n",
      "when the num of layers is 3,the num of nodes is 50,the optimizer is sgd,the accuracy is\n",
      "0.1\n",
      "when the num of layers is 3,the num of nodes is 100,the optimizer is adam,the accuracy is\n",
      "0.8871\n",
      "when the num of layers is 3,the num of nodes is 100,the optimizer is sgd,the accuracy is\n",
      "0.1\n",
      "when the num of layers is 3,the num of nodes is 100,the optimizer is adam,the accuracy is\n",
      "0.8871\n",
      "when the num of layers is 3,the num of nodes is 100,the optimizer is sgd,the accuracy is\n",
      "0.1\n"
     ]
    }
   ],
   "source": [
    "solist = ['adam', 'sgd']\n",
    "hllist = [(20,),(50,),(100,),(20, 20),(50, 50),(20, 20),(50,50,50),(100,100,100),(100,100,100)]\n",
    "for i in range(9):\n",
    "    for j in range(2):\n",
    "        hidden_layer_sizes = hllist[i]\n",
    "        solver = solist[j]\n",
    "        mlp_cls = MLPClassifier(hidden_layer_sizes=hidden_layer_sizes, random_state=3020,solver = solver)\n",
    "        mlp_cls.fit(X_train, y_train)\n",
    "        y_test_predict = mlp_cls.predict(X_test)\n",
    "        print(f'when the num of layers is {len(hllist[i])},the num of nodes is {hllist[i][0]},the optimizer is {solist[j]},the accuracy is')\n",
    "        print(metrics.accuracy_score(y_test, y_test_predict))"
   ]
  }
 ],
 "metadata": {
  "kernelspec": {
   "display_name": "Python 3 (ipykernel)",
   "language": "python",
   "name": "python3"
  },
  "language_info": {
   "codemirror_mode": {
    "name": "ipython",
    "version": 3
   },
   "file_extension": ".py",
   "mimetype": "text/x-python",
   "name": "python",
   "nbconvert_exporter": "python",
   "pygments_lexer": "ipython3",
   "version": "3.7.0"
  }
 },
 "nbformat": 4,
 "nbformat_minor": 2
}
